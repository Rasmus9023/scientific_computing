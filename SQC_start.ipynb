{
 "cells": [
  {
   "cell_type": "markdown",
   "id": "13ed695c-4d03-4088-b0f4-f6cd239b757f",
   "metadata": {},
   "source": [
    "# Ex02"
   ]
  },
  {
   "cell_type": "markdown",
   "id": "d0ffce3d",
   "metadata": {},
   "source": [
    "### Given qubit and two gates test-commit"
   ]
  },
  {
   "cell_type": "code",
   "execution_count": 24,
   "id": "c23c31a5",
   "metadata": {},
   "outputs": [],
   "source": [
    "import numpy as np\n",
    "import math as mt"
   ]
  },
  {
   "cell_type": "code",
   "execution_count": 10,
   "id": "ccfc5a55",
   "metadata": {},
   "outputs": [],
   "source": [
    "vector = [1/3,2/3]\n",
    "\n",
    "gate1 = [[1,0],[0,1]]\n",
    "\n",
    "gate2 = [[1,1],[1,1]]"
   ]
  },
  {
   "cell_type": "markdown",
   "id": "7edd656a",
   "metadata": {},
   "source": [
    "### Calculation of dot products"
   ]
  },
  {
   "cell_type": "code",
   "execution_count": 11,
   "id": "3b3a32da",
   "metadata": {},
   "outputs": [
    {
     "name": "stdout",
     "output_type": "stream",
     "text": [
      "[0.33333333 0.66666667]\n",
      "[1. 1.]\n"
     ]
    }
   ],
   "source": [
    "vect1 = np.dot(vector,gate1)\n",
    "print(vect1)\n",
    "vect2 = np.dot(vect1,gate2)\n",
    "print(vect2)"
   ]
  },
  {
   "cell_type": "markdown",
   "id": "0e2b1d54",
   "metadata": {},
   "source": [
    "### Kronecker product of gate1 and gate2"
   ]
  },
  {
   "cell_type": "code",
   "execution_count": 12,
   "id": "a1471204",
   "metadata": {},
   "outputs": [
    {
     "name": "stdout",
     "output_type": "stream",
     "text": [
      "[[1 1 0 0]\n",
      " [1 1 0 0]\n",
      " [0 0 1 1]\n",
      " [0 0 1 1]]\n"
     ]
    }
   ],
   "source": [
    "print(np.kron(gate1,gate2))"
   ]
  },
  {
   "cell_type": "markdown",
   "id": "fccd0f47",
   "metadata": {},
   "source": [
    "### Say we have a normalized output state [1/2,1/2], we determine the probability of measuring this output given the input vector"
   ]
  },
  {
   "cell_type": "code",
   "execution_count": 13,
   "id": "793dd067",
   "metadata": {},
   "outputs": [
    {
     "name": "stdout",
     "output_type": "stream",
     "text": [
      "0.25\n"
     ]
    }
   ],
   "source": [
    "psi1=[1/2,1/2]\n",
    "print(np.dot(vector,psi1)**2)"
   ]
  },
  {
   "cell_type": "markdown",
   "id": "b10d0007",
   "metadata": {},
   "source": [
    "### Below we use the Hadamard gate which transform vector space {|0>,|1>} to vector space {|+>,|->}"
   ]
  },
  {
   "cell_type": "code",
   "execution_count": 66,
   "id": "3f7fbb40",
   "metadata": {},
   "outputs": [],
   "source": [
    "H = [[1/mt.sqrt(2),1/mt.sqrt(2)],[1/mt.sqrt(2),-1/mt.sqrt(2)]]"
   ]
  },
  {
   "cell_type": "code",
   "execution_count": 27,
   "id": "4e1b170a",
   "metadata": {},
   "outputs": [
    {
     "data": {
      "text/plain": [
       "array([0.70710678, 0.70710678])"
      ]
     },
     "execution_count": 27,
     "metadata": {},
     "output_type": "execute_result"
    }
   ],
   "source": [
    "np.dot(H,[1,0])"
   ]
  },
  {
   "cell_type": "markdown",
   "id": "2919f9df",
   "metadata": {},
   "source": [
    "### Circuit of two qubits applying CNOT-gate"
   ]
  },
  {
   "cell_type": "markdown",
   "id": "8d7b2490",
   "metadata": {},
   "source": [
    "#### First we initialize two states, both |1>"
   ]
  },
  {
   "cell_type": "code",
   "execution_count": 36,
   "id": "35f6a074",
   "metadata": {},
   "outputs": [
    {
     "name": "stdout",
     "output_type": "stream",
     "text": [
      "[0 0 0 1]\n"
     ]
    }
   ],
   "source": [
    "psi1 = [0,1]\n",
    "psi2 = [0,1]\n",
    "\n",
    "comb = np.kron(psi1,psi2)\n",
    "\n",
    "print(comb)"
   ]
  },
  {
   "cell_type": "code",
   "execution_count": 37,
   "id": "cc5c99e6",
   "metadata": {},
   "outputs": [
    {
     "name": "stdout",
     "output_type": "stream",
     "text": [
      "[0 0 1 0]\n"
     ]
    }
   ],
   "source": [
    "CNOT = [[1,0,0,0],[0,1,0,0],[0,0,0,1],[0,0,1,0]]\n",
    "comb_CNOT = np.dot(CNOT,comb)\n",
    "\n",
    "print(comb_CNOT)"
   ]
  },
  {
   "cell_type": "markdown",
   "id": "84ed1a59",
   "metadata": {},
   "source": [
    "#### We see that the state is flipped from [0,0,0,1] (|1> ⊗ |1>) to [0,0,1,0] (|1> ⊗ |0>). This is the exact function of the CNOT-gate; it flips the second qubit (if and only if the first qubit is |1>) and retains the first qubit"
   ]
  },
  {
   "cell_type": "markdown",
   "id": "8f745035",
   "metadata": {},
   "source": [
    "#### Say we do this circuit and want to measure the probability of measuring |1>⊗|1>; or a random state (of same length)"
   ]
  },
  {
   "cell_type": "code",
   "execution_count": 55,
   "id": "767676ac",
   "metadata": {},
   "outputs": [
    {
     "data": {
      "text/plain": [
       "0"
      ]
     },
     "execution_count": 55,
     "metadata": {},
     "output_type": "execute_result"
    }
   ],
   "source": [
    "np.dot(comb,comb_CNOT)**2"
   ]
  },
  {
   "cell_type": "code",
   "execution_count": 56,
   "id": "5eed7998",
   "metadata": {},
   "outputs": [
    {
     "name": "stdout",
     "output_type": "stream",
     "text": [
      "[0.6 0.2 0.2 0.8]\n",
      "0.2\n"
     ]
    }
   ],
   "source": [
    "rng = np.random.default_rng()\n",
    "rndom = rng.choice(5, 4)/5\n",
    "print(rndom)\n",
    "print(np.dot(rndom,comb_CNOT))"
   ]
  },
  {
   "cell_type": "markdown",
   "id": "cc25ce1a",
   "metadata": {},
   "source": [
    "### Bell Basis"
   ]
  },
  {
   "cell_type": "code",
   "execution_count": 62,
   "id": "90ab663d",
   "metadata": {},
   "outputs": [],
   "source": [
    "phiplus = [i*1/2 for i in [1,0,0,1]]\n",
    "phiminus = [i*1/2 for i in [1,0,0,-1]]\n",
    "psiplus = [i*1/2 for i in [0,1,1,0]]\n",
    "psiminus = [i*1/2 for i in [0,1,-1,0]]"
   ]
  },
  {
   "cell_type": "markdown",
   "id": "891f5524",
   "metadata": {},
   "source": [
    "## Test"
   ]
  },
  {
   "cell_type": "code",
   "execution_count": 67,
   "id": "ac16e2f9",
   "metadata": {},
   "outputs": [
    {
     "name": "stdout",
     "output_type": "stream",
     "text": [
      "[[ 0.70710678  0.70710678]\n",
      " [ 0.70710678 -0.70710678]]\n"
     ]
    }
   ],
   "source": [
    "class Gatedict:\n",
    "    Hadamard = np.array([[1/mt.sqrt(2),1/mt.sqrt(2)],[1/mt.sqrt(2),-1/mt.sqrt(2)]])\n",
    "    CNOT = np.array([[1,0,0,0],[0,1,0,0],[0,0,0,1],[0,0,1,0]])\n",
    "\n",
    "print(Gatedict.Hadamard)"
   ]
  },
  {
   "cell_type": "code",
   "execution_count": 6,
   "id": "0efaa8dd",
   "metadata": {},
   "outputs": [
    {
     "name": "stdout",
     "output_type": "stream",
     "text": [
      "[2 3]\n",
      "[5 5]\n"
     ]
    }
   ],
   "source": [
    "import math as mt\n",
    "import numpy as np\n",
    "A = np.array([2,3])\n",
    "print(A)\n",
    "print(np.dot([[1,1],[1,1]],A))"
   ]
  },
  {
   "cell_type": "code",
   "execution_count": 13,
   "id": "be676ade",
   "metadata": {},
   "outputs": [
    {
     "ename": "TypeError",
     "evalue": "wigner() missing 1 required positional argument: 'xvec'",
     "output_type": "error",
     "traceback": [
      "\u001b[1;31m---------------------------------------------------------------------------\u001b[0m",
      "\u001b[1;31mTypeError\u001b[0m                                 Traceback (most recent call last)",
      "Cell \u001b[1;32mIn[13], line 9\u001b[0m\n\u001b[0;32m      5\u001b[0m state \u001b[38;5;241m=\u001b[39m qt\u001b[38;5;241m.\u001b[39mcore\u001b[38;5;241m.\u001b[39mstates\u001b[38;5;241m.\u001b[39mbasis(\u001b[38;5;241m2\u001b[39m)\n\u001b[0;32m      7\u001b[0m xvec \u001b[38;5;241m=\u001b[39m np\u001b[38;5;241m.\u001b[39mlinspace(\u001b[38;5;241m-\u001b[39m\u001b[38;5;241m5\u001b[39m,\u001b[38;5;241m5\u001b[39m,\u001b[38;5;241m200\u001b[39m)\n\u001b[1;32m----> 9\u001b[0m W_fock \u001b[38;5;241m=\u001b[39m \u001b[43mqt\u001b[49m\u001b[38;5;241;43m.\u001b[39;49m\u001b[43mwigner\u001b[49m\u001b[43m(\u001b[49m\u001b[43mstate\u001b[49m\u001b[43m)\u001b[49m\n\u001b[0;32m     11\u001b[0m plt\u001b[38;5;241m.\u001b[39mplot(xvec,W_fock)\n\u001b[0;32m     12\u001b[0m plt\u001b[38;5;241m.\u001b[39mshow()\n",
      "\u001b[1;31mTypeError\u001b[0m: wigner() missing 1 required positional argument: 'xvec'"
     ]
    }
   ],
   "source": [
    "import qutip as qt\n",
    "import matplotlib.pyplot as plt\n",
    "import numpy as np\n",
    "\n",
    "state = qt.core.states.basis(2)\n",
    "\n",
    "xvec = np.linspace(-5,5,200)\n",
    "\n",
    "W_fock = qt.wigner(state)\n",
    "\n",
    "plt.plot(xvec,W_fock)\n",
    "plt.show()"
   ]
  },
  {
   "cell_type": "code",
   "execution_count": null,
   "id": "8009e4e7",
   "metadata": {},
   "outputs": [],
   "source": []
  }
 ],
 "metadata": {
  "kernelspec": {
   "display_name": "Python 3 (ipykernel)",
   "language": "python",
   "name": "python3"
  },
  "language_info": {
   "codemirror_mode": {
    "name": "ipython",
    "version": 3
   },
   "file_extension": ".py",
   "mimetype": "text/x-python",
   "name": "python",
   "nbconvert_exporter": "python",
   "pygments_lexer": "ipython3",
   "version": "3.12.3"
  }
 },
 "nbformat": 4,
 "nbformat_minor": 5
}
