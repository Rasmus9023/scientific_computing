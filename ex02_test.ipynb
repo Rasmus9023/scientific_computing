{
 "cells": [
  {
   "cell_type": "markdown",
   "id": "13ed695c-4d03-4088-b0f4-f6cd239b757f",
   "metadata": {},
   "source": [
    "# Ex02"
   ]
  },
  {
   "cell_type": "markdown",
   "id": "d0ffce3d",
   "metadata": {},
   "source": [
    "### Given qubit and two gates test-commit with message bla bla"
   ]
  },
  {
   "cell_type": "code",
   "execution_count": 3,
   "id": "c23c31a5",
   "metadata": {},
   "outputs": [],
   "source": [
    "import numpy as np"
   ]
  },
  {
   "cell_type": "code",
   "execution_count": 4,
   "id": "ccfc5a55",
   "metadata": {},
   "outputs": [],
   "source": [
    "vector = [1,2]\n",
    "\n",
    "gate1 = [[1,0],[0,1]]\n",
    "\n",
    "gate2 = [[1,1],[1,1]]"
   ]
  },
  {
   "cell_type": "markdown",
   "id": "7edd656a",
   "metadata": {},
   "source": [
    "### Calculation of dot products"
   ]
  },
  {
   "cell_type": "code",
   "execution_count": 5,
   "id": "3b3a32da",
   "metadata": {},
   "outputs": [
    {
     "name": "stdout",
     "output_type": "stream",
     "text": [
      "[1 2]\n",
      "[3 3]\n"
     ]
    }
   ],
   "source": [
    "vect1 = np.dot(vector,gate1)\n",
    "print(vect1)\n",
    "vect2 = np.dot(vect1,gate2)\n",
    "print(vect2)"
   ]
  },
  {
   "cell_type": "markdown",
   "id": "0e2b1d54",
   "metadata": {},
   "source": [
    "### Kronecker product of gate1 and gate2"
   ]
  },
  {
   "cell_type": "code",
   "execution_count": 6,
   "id": "a1471204",
   "metadata": {},
   "outputs": [
    {
     "name": "stdout",
     "output_type": "stream",
     "text": [
      "[[1 1 0 0]\n",
      " [1 1 0 0]\n",
      " [0 0 1 1]\n",
      " [0 0 1 1]]\n"
     ]
    }
   ],
   "source": [
    "print(np.kron(gate1,gate2))"
   ]
  },
  {
   "cell_type": "markdown",
   "id": "25c9d322",
   "metadata": {},
   "source": [
    "### We can also do this with the Hadamard gate which maps the {|0>,|1>} basis to the {|+>,|->} basis and vice versa (see bloch sphere)"
   ]
  },
  {
   "cell_type": "code",
   "execution_count": 17,
   "id": "35900c04",
   "metadata": {},
   "outputs": [
    {
     "data": {
      "text/plain": [
       "array([0.70710678, 0.70710678])"
      ]
     },
     "execution_count": 17,
     "metadata": {},
     "output_type": "execute_result"
    }
   ],
   "source": [
    "vect1 = [1,0]\n",
    "Hadamard = [[1,1],[1,-1]]*1/np.sqrt(2)\n",
    "\n",
    "np.dot(vect1,Hadamard)"
   ]
  },
  {
   "cell_type": "markdown",
   "id": "fccd0f47",
   "metadata": {},
   "source": [
    "### Say we have an output state [2,2], we determine the probability of measuring this output given the input vector"
   ]
  },
  {
   "cell_type": "code",
   "execution_count": 8,
   "id": "793dd067",
   "metadata": {},
   "outputs": [
    {
     "name": "stdout",
     "output_type": "stream",
     "text": [
      "36\n"
     ]
    }
   ],
   "source": [
    "psi1=[2,2]\n",
    "print(np.dot(vector,psi1)**2)"
   ]
  },
  {
   "cell_type": "code",
   "execution_count": null,
   "id": "7f0fbd47",
   "metadata": {},
   "outputs": [],
   "source": []
  }
 ],
 "metadata": {
  "kernelspec": {
   "display_name": "Python 3 (ipykernel)",
   "language": "python",
   "name": "python3"
  },
  "language_info": {
   "codemirror_mode": {
    "name": "ipython",
    "version": 3
   },
   "file_extension": ".py",
   "mimetype": "text/x-python",
   "name": "python",
   "nbconvert_exporter": "python",
   "pygments_lexer": "ipython3",
   "version": "3.9.16"
  }
 },
 "nbformat": 4,
 "nbformat_minor": 5
}
